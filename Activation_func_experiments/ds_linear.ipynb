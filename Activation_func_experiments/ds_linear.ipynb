{
 "cells": [
  {
   "cell_type": "code",
   "execution_count": 1,
   "metadata": {},
   "outputs": [],
   "source": [
    "import torch.optim as optim\n",
    "from deepsplines.ds_modules import dsnn\n",
    "import torch.nn as nn\n",
    "import torch\n",
    "import numpy as np\n",
    "import wandb\n",
    "from sklearn.model_selection import train_test_split"
   ]
  },
  {
   "cell_type": "code",
   "execution_count": 2,
   "metadata": {},
   "outputs": [],
   "source": [
    "np.random.seed(1)\n",
    "torch.manual_seed(1)\n",
    "torch.set_default_dtype(torch.float)\n",
    "device = torch.device('cpu' if torch.backends.mps.is_available() else 'mps')"
   ]
  },
  {
   "cell_type": "code",
   "execution_count": 3,
   "metadata": {},
   "outputs": [
    {
     "name": "stderr",
     "output_type": "stream",
     "text": [
      "Failed to detect the name of this notebook, you can set it manually with the WANDB_NOTEBOOK_NAME environment variable to enable code saving.\n",
      "\u001b[34m\u001b[1mwandb\u001b[0m: Currently logged in as: \u001b[33masg-animesh\u001b[0m (\u001b[33manimax_sg\u001b[0m). Use \u001b[1m`wandb login --relogin`\u001b[0m to force relogin\n"
     ]
    },
    {
     "data": {
      "text/html": [
       "Tracking run with wandb version 0.15.2"
      ],
      "text/plain": [
       "<IPython.core.display.HTML object>"
      ]
     },
     "metadata": {},
     "output_type": "display_data"
    },
    {
     "data": {
      "text/html": [
       "Run data is saved locally in <code>/Users/animeshsengupta/Work_Directory/DACSS/STAT690DS/Project/wandb/run-20230512_052115-cotq8iie</code>"
      ],
      "text/plain": [
       "<IPython.core.display.HTML object>"
      ]
     },
     "metadata": {},
     "output_type": "display_data"
    },
    {
     "data": {
      "text/html": [
       "Syncing run <strong><a href='https://wandb.ai/animax_sg/Deepsline%20California%20Housing/runs/cotq8iie' target=\"_blank\">super-smoke-7</a></strong> to <a href='https://wandb.ai/animax_sg/Deepsline%20California%20Housing' target=\"_blank\">Weights & Biases</a> (<a href='https://wandb.me/run' target=\"_blank\">docs</a>)<br/>"
      ],
      "text/plain": [
       "<IPython.core.display.HTML object>"
      ]
     },
     "metadata": {},
     "output_type": "display_data"
    },
    {
     "data": {
      "text/html": [
       " View project at <a href='https://wandb.ai/animax_sg/Deepsline%20California%20Housing' target=\"_blank\">https://wandb.ai/animax_sg/Deepsline%20California%20Housing</a>"
      ],
      "text/plain": [
       "<IPython.core.display.HTML object>"
      ]
     },
     "metadata": {},
     "output_type": "display_data"
    },
    {
     "data": {
      "text/html": [
       " View run at <a href='https://wandb.ai/animax_sg/Deepsline%20California%20Housing/runs/cotq8iie' target=\"_blank\">https://wandb.ai/animax_sg/Deepsline%20California%20Housing/runs/cotq8iie</a>"
      ],
      "text/plain": [
       "<IPython.core.display.HTML object>"
      ]
     },
     "metadata": {},
     "output_type": "display_data"
    },
    {
     "data": {
      "text/html": [
       "<button onClick=\"this.nextSibling.style.display='block';this.style.display='none';\">Display W&B run</button><iframe src='https://wandb.ai/animax_sg/Deepsline%20California%20Housing/runs/cotq8iie?jupyter=true' style='border:none;width:100%;height:420px;display:none;'></iframe>"
      ],
      "text/plain": [
       "<wandb.sdk.wandb_run.Run at 0x16a0ed2d0>"
      ]
     },
     "execution_count": 3,
     "metadata": {},
     "output_type": "execute_result"
    }
   ],
   "source": [
    "wandb.init(\n",
    "    # set the wandb project where this run will be logged\n",
    "    project=\"Deepsline California Housing\",\n",
    "    \n",
    "    # track hyperparameters and run metadata\n",
    "    config={\n",
    "    \"learning_rate\": 0.01,\n",
    "    \"architecture\": \"Deepline Linear\",\n",
    "    \"dataset\": \"California Housing\",\n",
    "    \"epochs\": 1000,\n",
    "    }\n",
    ")"
   ]
  },
  {
   "cell_type": "code",
   "execution_count": 4,
   "metadata": {},
   "outputs": [
    {
     "name": "stdout",
     "output_type": "stream",
     "text": [
      "['MedInc', 'HouseAge', 'AveRooms', 'AveBedrms', 'Population', 'AveOccup', 'Latitude', 'Longitude']\n"
     ]
    }
   ],
   "source": [
    "from sklearn.datasets import fetch_california_housing\n",
    " \n",
    "data = fetch_california_housing()\n",
    "print(data.feature_names)\n",
    " \n",
    "X, y = data.data, data.target\n",
    "# Do more data analysis "
   ]
  },
  {
   "cell_type": "code",
   "execution_count": 5,
   "metadata": {},
   "outputs": [],
   "source": [
    "opt_params = {\n",
    "    'size': 51, #knots k+2\n",
    "    'range_': 6,\n",
    "    'init': 'leaky_relu',\n",
    "    'save_memory': False\n",
    "}\n"
   ]
  },
  {
   "cell_type": "code",
   "execution_count": 18,
   "metadata": {},
   "outputs": [],
   "source": [
    "class DeepSplines(dsnn.DSModule):\n",
    "    def __init__(self,opt_params,epochs,lr):\n",
    "\n",
    "        super(DeepSplines,self).__init__()\n",
    "        self.model = nn.Sequential(\n",
    "                        nn.Linear(8, 24),\n",
    "                        dsnn.DeepBSpline('fc', 24, **opt_params),\n",
    "                        nn.Linear(24, 12),\n",
    "                        dsnn.DeepBSpline('fc', 12, **opt_params),\n",
    "                        nn.Linear(12, 8),\n",
    "                        dsnn.DeepBSpline('fc', 8, **opt_params),\n",
    "                        nn.Linear(8, 1)\n",
    "                    )\n",
    "        self.initialization(opt_params['init'], init_type='He')\n",
    "        self.num_params = self.get_num_params()\n",
    "        self.epochs = epochs\n",
    "        self.lr = lr\n",
    "    \n",
    "    def forward(self,x):\n",
    "        return self.model(x)\n",
    "    \n",
    "    def fit(self,X,y):\n",
    "        self.train()\n",
    "        criterion = nn.MSELoss()\n",
    "        optimizer = torch.optim.Adam(self.parameters_deepspline(), lr=self.lr)\n",
    "        for epoch in range(self.epochs):\n",
    "            optimizer.zero_grad()\n",
    "            y_pred = self.forward(X)\n",
    "            loss = criterion(y_pred, y)\n",
    "            loss.backward()\n",
    "            optimizer.step()\n",
    "            wandb.log({\"loss\": loss.item()}, step=epoch)\n",
    "            if epoch % 100 == 0:\n",
    "                print('Epoch {}: train loss: {}'.format(epoch, loss.item()))\n",
    "        return loss.item()\n",
    "    \n",
    "    def predict(self,X,y):\n",
    "        self.eval()\n",
    "        criterion = nn.MSELoss()\n",
    "        with torch.no_grad():\n",
    "            y_pred = self.forward(X)\n",
    "        loss= criterion(y_pred, y)\n",
    "        #print('test loss: {}'.format(loss.item()))\n",
    "        return loss.item()\n",
    "\n"
   ]
  },
  {
   "cell_type": "code",
   "execution_count": 7,
   "metadata": {},
   "outputs": [],
   "source": [
    "X_train, X_test, y_train, y_test = train_test_split(X, y, train_size=0.7, shuffle=True)\n",
    "X_train = torch.tensor(X_train, dtype=torch.float32)\n",
    "y_train = torch.tensor(y_train, dtype=torch.float32).reshape(-1, 1)\n",
    "X_test = torch.tensor(X_test, dtype=torch.float32)\n",
    "y_test = torch.tensor(y_test, dtype=torch.float32).reshape(-1, 1)"
   ]
  },
  {
   "cell_type": "code",
   "execution_count": 8,
   "metadata": {},
   "outputs": [
    {
     "data": {
      "text/html": [
       "Finishing last run (ID:cotq8iie) before initializing another..."
      ],
      "text/plain": [
       "<IPython.core.display.HTML object>"
      ]
     },
     "metadata": {},
     "output_type": "display_data"
    },
    {
     "data": {
      "text/html": [
       "Waiting for W&B process to finish... <strong style=\"color:green\">(success).</strong>"
      ],
      "text/plain": [
       "<IPython.core.display.HTML object>"
      ]
     },
     "metadata": {},
     "output_type": "display_data"
    },
    {
     "data": {
      "text/html": [
       " View run <strong style=\"color:#cdcd00\">super-smoke-7</strong> at: <a href='https://wandb.ai/animax_sg/Deepsline%20California%20Housing/runs/cotq8iie' target=\"_blank\">https://wandb.ai/animax_sg/Deepsline%20California%20Housing/runs/cotq8iie</a><br/>Synced 5 W&B file(s), 0 media file(s), 0 artifact file(s) and 0 other file(s)"
      ],
      "text/plain": [
       "<IPython.core.display.HTML object>"
      ]
     },
     "metadata": {},
     "output_type": "display_data"
    },
    {
     "data": {
      "text/html": [
       "Find logs at: <code>./wandb/run-20230512_052115-cotq8iie/logs</code>"
      ],
      "text/plain": [
       "<IPython.core.display.HTML object>"
      ]
     },
     "metadata": {},
     "output_type": "display_data"
    },
    {
     "data": {
      "text/html": [
       "Successfully finished last run (ID:cotq8iie). Initializing new run:<br/>"
      ],
      "text/plain": [
       "<IPython.core.display.HTML object>"
      ]
     },
     "metadata": {},
     "output_type": "display_data"
    },
    {
     "data": {
      "text/html": [
       "Tracking run with wandb version 0.15.2"
      ],
      "text/plain": [
       "<IPython.core.display.HTML object>"
      ]
     },
     "metadata": {},
     "output_type": "display_data"
    },
    {
     "data": {
      "text/html": [
       "Run data is saved locally in <code>/Users/animeshsengupta/Work_Directory/DACSS/STAT690DS/Project/wandb/run-20230512_052122-rlotfc42</code>"
      ],
      "text/plain": [
       "<IPython.core.display.HTML object>"
      ]
     },
     "metadata": {},
     "output_type": "display_data"
    },
    {
     "data": {
      "text/html": [
       "Syncing run <strong><a href='https://wandb.ai/animax_sg/Deepsline%20California%20Housing/runs/rlotfc42' target=\"_blank\">effortless-grass-8</a></strong> to <a href='https://wandb.ai/animax_sg/Deepsline%20California%20Housing' target=\"_blank\">Weights & Biases</a> (<a href='https://wandb.me/run' target=\"_blank\">docs</a>)<br/>"
      ],
      "text/plain": [
       "<IPython.core.display.HTML object>"
      ]
     },
     "metadata": {},
     "output_type": "display_data"
    },
    {
     "data": {
      "text/html": [
       " View project at <a href='https://wandb.ai/animax_sg/Deepsline%20California%20Housing' target=\"_blank\">https://wandb.ai/animax_sg/Deepsline%20California%20Housing</a>"
      ],
      "text/plain": [
       "<IPython.core.display.HTML object>"
      ]
     },
     "metadata": {},
     "output_type": "display_data"
    },
    {
     "data": {
      "text/html": [
       " View run at <a href='https://wandb.ai/animax_sg/Deepsline%20California%20Housing/runs/rlotfc42' target=\"_blank\">https://wandb.ai/animax_sg/Deepsline%20California%20Housing/runs/rlotfc42</a>"
      ],
      "text/plain": [
       "<IPython.core.display.HTML object>"
      ]
     },
     "metadata": {},
     "output_type": "display_data"
    },
    {
     "name": "stdout",
     "output_type": "stream",
     "text": [
      "Epoch 0: train loss: 986.0567016601562\n",
      "Epoch 100: train loss: 1.3195732831954956\n",
      "Epoch 200: train loss: 1.2657312154769897\n",
      "Epoch 300: train loss: 1.2474550008773804\n",
      "Epoch 400: train loss: 1.3091626167297363\n",
      "Epoch 500: train loss: 1.2820892333984375\n",
      "Epoch 600: train loss: 1.2571290731430054\n",
      "Epoch 700: train loss: 1.2389861345291138\n",
      "Epoch 800: train loss: 1.3086447715759277\n",
      "Epoch 900: train loss: 1.2171610593795776\n",
      "Epoch 1000: train loss: 1.2613348960876465\n",
      "Epoch 1100: train loss: 1.2358717918395996\n",
      "Epoch 1200: train loss: 1.2146563529968262\n",
      "Epoch 1300: train loss: 1.2063889503479004\n",
      "Epoch 1400: train loss: 1.3206666707992554\n",
      "Epoch 1500: train loss: 2.940385103225708\n",
      "Epoch 1600: train loss: 1.2650035619735718\n",
      "Epoch 1700: train loss: 1.2276878356933594\n",
      "Epoch 1800: train loss: 1.2508080005645752\n",
      "Epoch 1900: train loss: 1.209648847579956\n"
     ]
    },
    {
     "name": "stderr",
     "output_type": "stream",
     "text": [
      "wandb: Network error (ConnectTimeout), entering retry loop.\n"
     ]
    }
   ],
   "source": [
    "model=DeepSplines(opt_params,epochs=2000,lr=1e-3)\n",
    "wandb.init(\n",
    "    # set the wandb project where this run will be logged\n",
    "    project=\"Deepsline California Housing\",\n",
    "    \n",
    "    # track hyperparameters and run metadata\n",
    "    config={\n",
    "    \"learning_rate\": 0.01,\n",
    "    \"architecture\": \"Deepline Linear\",\n",
    "    \"dataset\": \"California Housing\",\n",
    "    \"epochs\": 2000,\n",
    "    }\n",
    ")\n",
    "wandb.watch(model,log= \"all\",log_freq=10)\n",
    "loss_tr=model.fit(X_train,y_train)"
   ]
  },
  {
   "cell_type": "code",
   "execution_count": 11,
   "metadata": {},
   "outputs": [
    {
     "name": "stdout",
     "output_type": "stream",
     "text": [
      "k=21,r=3,train_loss=1.2871395349502563,test_loss=1.285549521446228\n",
      "k=21,r=4,train_loss=1.201987385749817,test_loss=1.1951178312301636\n",
      "k=21,r=5,train_loss=1.3997913599014282,test_loss=1.385147213935852\n",
      "k=21,r=6,train_loss=1.3284070491790771,test_loss=1.322401523590088\n",
      "k=21,r=7,train_loss=1.3786813020706177,test_loss=1.3605108261108398\n",
      "k=31,r=3,train_loss=1.3073337078094482,test_loss=1.2896579504013062\n",
      "k=31,r=4,train_loss=1.122403621673584,test_loss=1.1014426946640015\n",
      "k=31,r=5,train_loss=1.244877576828003,test_loss=1.2479361295700073\n",
      "k=31,r=6,train_loss=1.3978228569030762,test_loss=1.3794398307800293\n",
      "k=31,r=7,train_loss=1.3699613809585571,test_loss=1.3519688844680786\n",
      "k=41,r=3,train_loss=1.291400671005249,test_loss=1.2936618328094482\n",
      "k=41,r=4,train_loss=1.3351114988327026,test_loss=1.335227608680725\n",
      "k=41,r=5,train_loss=1.2468366622924805,test_loss=1.2452056407928467\n",
      "k=41,r=6,train_loss=1.2782878875732422,test_loss=1.2640329599380493\n",
      "k=41,r=7,train_loss=1.18476140499115,test_loss=1.1831587553024292\n",
      "k=51,r=3,train_loss=1.2982221841812134,test_loss=1.285763144493103\n",
      "k=51,r=4,train_loss=1.3141201734542847,test_loss=1.3024786710739136\n",
      "k=51,r=5,train_loss=1.1997348070144653,test_loss=1.2203962802886963\n",
      "k=51,r=6,train_loss=1.1153972148895264,test_loss=1.1860034465789795\n",
      "k=51,r=7,train_loss=1.2303006649017334,test_loss=1.2541322708129883\n",
      "k=61,r=3,train_loss=1.1760518550872803,test_loss=1.2129762172698975\n",
      "k=61,r=4,train_loss=1.2668615579605103,test_loss=1.2512633800506592\n",
      "k=61,r=5,train_loss=1.1925621032714844,test_loss=1.1950541734695435\n",
      "k=61,r=6,train_loss=1.2653241157531738,test_loss=1.254702091217041\n",
      "k=61,r=7,train_loss=1.2292213439941406,test_loss=1.2831177711486816\n",
      "k=71,r=3,train_loss=1.2594050168991089,test_loss=1.2457382678985596\n",
      "k=71,r=4,train_loss=1.3376785516738892,test_loss=1.338187336921692\n",
      "k=71,r=5,train_loss=1.2625701427459717,test_loss=1.3279670476913452\n",
      "k=71,r=6,train_loss=1.2685675621032715,test_loss=1.2933377027511597\n",
      "k=71,r=7,train_loss=1.2524694204330444,test_loss=1.259333610534668\n"
     ]
    }
   ],
   "source": [
    "K=[21,31,41,51,61,71]\n",
    "R=[3,4,5,6,7]\n",
    "best_loss=float('inf')\n",
    "best_params=None\n",
    "for k in K:\n",
    "    for r in R:\n",
    "        opt_params[\"size\"]=k\n",
    "        opt_params[\"range_\"]=r\n",
    "        model=DeepSplines(opt_params,epochs=2000,lr=1e-3)\n",
    "        # wandb.init(\n",
    "        #     # set the wandb project where this run will be logged\n",
    "        #     project=\"Deepsline California Housing\",\n",
    "            \n",
    "        #     # track hyperparameters and run metadata\n",
    "        #     config={\n",
    "        #     \"learning_rate\": 0.01,\n",
    "        #     \"architecture\": \"Deepline Linear\",\n",
    "        #     \"dataset\": \"California Housing\",\n",
    "        #     \"epochs\": 2000,\n",
    "        #     \"k\":k,\n",
    "        #     \"r\":r\n",
    "        #     }\n",
    "        # )\n",
    "        # wandb.watch(model,log= \"all\",log_freq=10)\n",
    "        loss_tr=model.fit(X_train,y_train)\n",
    "        loss_te=model.predict(X_test,y_test)\n",
    "        print(\"k={},r={},train_loss={},test_loss={}\".format(k,r,loss_tr,loss_te))\n",
    "        if loss_te<best_loss:\n",
    "            best_loss=loss_te\n",
    "            best_params=opt_params\n",
    "\n",
    "        \n",
    "         "
   ]
  },
  {
   "cell_type": "code",
   "execution_count": 13,
   "metadata": {},
   "outputs": [],
   "source": [
    "best_params[\"size\"]=31\n",
    "best_params[\"range_\"]=4"
   ]
  },
  {
   "cell_type": "code",
   "execution_count": 30,
   "metadata": {},
   "outputs": [
    {
     "name": "stdout",
     "output_type": "stream",
     "text": [
      "Epoch 0: train loss: 2513.556396484375\n",
      "Epoch 100: train loss: 1.4562246799468994\n",
      "Epoch 200: train loss: 1.3359140157699585\n",
      "Epoch 300: train loss: 1.2898290157318115\n",
      "Epoch 400: train loss: 1.2716360092163086\n",
      "Epoch 500: train loss: 1.2649149894714355\n",
      "Epoch 600: train loss: 1.261977195739746\n",
      "Epoch 700: train loss: 1.2599565982818604\n",
      "Epoch 800: train loss: 1.258320927619934\n",
      "Epoch 900: train loss: 1.2567358016967773\n",
      "Epoch 1000: train loss: 1.255059838294983\n",
      "Epoch 1100: train loss: 1.2532647848129272\n",
      "Epoch 1200: train loss: 1.2514355182647705\n",
      "Epoch 1300: train loss: 1.2496604919433594\n",
      "Epoch 1400: train loss: 1.2478723526000977\n",
      "Epoch 1500: train loss: 1.2460802793502808\n",
      "Epoch 1600: train loss: 1.2443007230758667\n",
      "Epoch 1700: train loss: 1.2424368858337402\n",
      "Epoch 1800: train loss: 1.2405461072921753\n",
      "Epoch 1900: train loss: 1.2386189699172974\n"
     ]
    }
   ],
   "source": [
    "model=DeepSplines(best_params,epochs=2000,lr=1e-3)\n",
    "\n",
    "loss_tr=model.fit(X_train,y_train)"
   ]
  },
  {
   "cell_type": "code",
   "execution_count": 40,
   "metadata": {},
   "outputs": [
    {
     "data": {
      "text/plain": [
       "(6193,)"
      ]
     },
     "execution_count": 40,
     "metadata": {},
     "output_type": "execute_result"
    }
   ],
   "source": [
    "y_pred.reshape([6193]).shape"
   ]
  },
  {
   "cell_type": "code",
   "execution_count": 42,
   "metadata": {},
   "outputs": [
    {
     "data": {
      "image/png": "[encoded data removed]",
      "text/plain": [
       "<Figure size 640x480 with 1 Axes>"
      ]
     },
     "metadata": {},
     "output_type": "display_data"
    }
   ],
   "source": [
    "import matplotlib.pyplot as plt\n",
    "y_pred=model.forward(X_test).detach().numpy().reshape([6193])\n",
    "residuals = (y_test - y_pred).detach().numpy()\n",
    "plt.scatter(y_pred, residuals)\n",
    "plt.xlabel('Predicted Values')\n",
    "plt.ylabel('Residuals')\n",
    "plt.title('Residual Plot Splines')\n",
    "plt.show()\n"
   ]
  },
  {
   "cell_type": "code",
   "execution_count": 21,
   "metadata": {},
   "outputs": [
    {
     "data": {
      "text/plain": [
       "1.2670626640319824"
      ]
     },
     "execution_count": 21,
     "metadata": {},
     "output_type": "execute_result"
    }
   ],
   "source": []
  },
  {
   "cell_type": "code",
   "execution_count": 22,
   "metadata": {},
   "outputs": [
    {
     "data": {
      "text/plain": [
       "1.2882989645004272"
      ]
     },
     "execution_count": 22,
     "metadata": {},
     "output_type": "execute_result"
    }
   ],
   "source": []
  },
  {
   "cell_type": "code",
   "execution_count": 29,
   "metadata": {},
   "outputs": [
    {
     "ename": "ValueError",
     "evalue": "x and y must be the same size",
     "output_type": "error",
     "traceback": [
      "\u001b[0;31m---------------------------------------------------------------------------\u001b[0m",
      "\u001b[0;31mValueError\u001b[0m                                Traceback (most recent call last)",
      "Cell \u001b[0;32mIn[29], line 13\u001b[0m\n\u001b[1;32m     10\u001b[0m y_test_sorted \u001b[39m=\u001b[39m y_test[sort_idx]\n\u001b[1;32m     12\u001b[0m \u001b[39m# Plot fitted regression line\u001b[39;00m\n\u001b[0;32m---> 13\u001b[0m plt\u001b[39m.\u001b[39;49mscatter(X_test_sorted, y_test_sorted, color\u001b[39m=\u001b[39;49m\u001b[39m'\u001b[39;49m\u001b[39mblue\u001b[39;49m\u001b[39m'\u001b[39;49m, alpha\u001b[39m=\u001b[39;49m\u001b[39m0.2\u001b[39;49m, label\u001b[39m=\u001b[39;49m\u001b[39m'\u001b[39;49m\u001b[39mTest Data\u001b[39;49m\u001b[39m'\u001b[39;49m)\n\u001b[1;32m     14\u001b[0m plt\u001b[39m.\u001b[39mplot(X_test_sorted[:, \u001b[39m0\u001b[39m], model\u001b[39m.\u001b[39mforward(X_test_sorted), color\u001b[39m=\u001b[39m\u001b[39m'\u001b[39m\u001b[39mred\u001b[39m\u001b[39m'\u001b[39m, linewidth\u001b[39m=\u001b[39m\u001b[39m2\u001b[39m, label\u001b[39m=\u001b[39m\u001b[39m'\u001b[39m\u001b[39mFitted Regression Line\u001b[39m\u001b[39m'\u001b[39m)\n\u001b[1;32m     15\u001b[0m plt\u001b[39m.\u001b[39mxlabel(\u001b[39m'\u001b[39m\u001b[39mMedian Income\u001b[39m\u001b[39m'\u001b[39m)\n",
      "File \u001b[0;32m/opt/homebrew/lib/python3.11/site-packages/matplotlib/pyplot.py:2862\u001b[0m, in \u001b[0;36mscatter\u001b[0;34m(x, y, s, c, marker, cmap, norm, vmin, vmax, alpha, linewidths, edgecolors, plotnonfinite, data, **kwargs)\u001b[0m\n\u001b[1;32m   2857\u001b[0m \u001b[39m@_copy_docstring_and_deprecators\u001b[39m(Axes\u001b[39m.\u001b[39mscatter)\n\u001b[1;32m   2858\u001b[0m \u001b[39mdef\u001b[39;00m \u001b[39mscatter\u001b[39m(\n\u001b[1;32m   2859\u001b[0m         x, y, s\u001b[39m=\u001b[39m\u001b[39mNone\u001b[39;00m, c\u001b[39m=\u001b[39m\u001b[39mNone\u001b[39;00m, marker\u001b[39m=\u001b[39m\u001b[39mNone\u001b[39;00m, cmap\u001b[39m=\u001b[39m\u001b[39mNone\u001b[39;00m, norm\u001b[39m=\u001b[39m\u001b[39mNone\u001b[39;00m,\n\u001b[1;32m   2860\u001b[0m         vmin\u001b[39m=\u001b[39m\u001b[39mNone\u001b[39;00m, vmax\u001b[39m=\u001b[39m\u001b[39mNone\u001b[39;00m, alpha\u001b[39m=\u001b[39m\u001b[39mNone\u001b[39;00m, linewidths\u001b[39m=\u001b[39m\u001b[39mNone\u001b[39;00m, \u001b[39m*\u001b[39m,\n\u001b[1;32m   2861\u001b[0m         edgecolors\u001b[39m=\u001b[39m\u001b[39mNone\u001b[39;00m, plotnonfinite\u001b[39m=\u001b[39m\u001b[39mFalse\u001b[39;00m, data\u001b[39m=\u001b[39m\u001b[39mNone\u001b[39;00m, \u001b[39m*\u001b[39m\u001b[39m*\u001b[39mkwargs):\n\u001b[0;32m-> 2862\u001b[0m     __ret \u001b[39m=\u001b[39m gca()\u001b[39m.\u001b[39;49mscatter(\n\u001b[1;32m   2863\u001b[0m         x, y, s\u001b[39m=\u001b[39;49ms, c\u001b[39m=\u001b[39;49mc, marker\u001b[39m=\u001b[39;49mmarker, cmap\u001b[39m=\u001b[39;49mcmap, norm\u001b[39m=\u001b[39;49mnorm,\n\u001b[1;32m   2864\u001b[0m         vmin\u001b[39m=\u001b[39;49mvmin, vmax\u001b[39m=\u001b[39;49mvmax, alpha\u001b[39m=\u001b[39;49malpha, linewidths\u001b[39m=\u001b[39;49mlinewidths,\n\u001b[1;32m   2865\u001b[0m         edgecolors\u001b[39m=\u001b[39;49medgecolors, plotnonfinite\u001b[39m=\u001b[39;49mplotnonfinite,\n\u001b[1;32m   2866\u001b[0m         \u001b[39m*\u001b[39;49m\u001b[39m*\u001b[39;49m({\u001b[39m\"\u001b[39;49m\u001b[39mdata\u001b[39;49m\u001b[39m\"\u001b[39;49m: data} \u001b[39mif\u001b[39;49;00m data \u001b[39mis\u001b[39;49;00m \u001b[39mnot\u001b[39;49;00m \u001b[39mNone\u001b[39;49;00m \u001b[39melse\u001b[39;49;00m {}), \u001b[39m*\u001b[39;49m\u001b[39m*\u001b[39;49mkwargs)\n\u001b[1;32m   2867\u001b[0m     sci(__ret)\n\u001b[1;32m   2868\u001b[0m     \u001b[39mreturn\u001b[39;00m __ret\n",
      "File \u001b[0;32m/opt/homebrew/lib/python3.11/site-packages/matplotlib/__init__.py:1442\u001b[0m, in \u001b[0;36m_preprocess_data.<locals>.inner\u001b[0;34m(ax, data, *args, **kwargs)\u001b[0m\n\u001b[1;32m   1439\u001b[0m \u001b[39m@functools\u001b[39m\u001b[39m.\u001b[39mwraps(func)\n\u001b[1;32m   1440\u001b[0m \u001b[39mdef\u001b[39;00m \u001b[39minner\u001b[39m(ax, \u001b[39m*\u001b[39margs, data\u001b[39m=\u001b[39m\u001b[39mNone\u001b[39;00m, \u001b[39m*\u001b[39m\u001b[39m*\u001b[39mkwargs):\n\u001b[1;32m   1441\u001b[0m     \u001b[39mif\u001b[39;00m data \u001b[39mis\u001b[39;00m \u001b[39mNone\u001b[39;00m:\n\u001b[0;32m-> 1442\u001b[0m         \u001b[39mreturn\u001b[39;00m func(ax, \u001b[39m*\u001b[39;49m\u001b[39mmap\u001b[39;49m(sanitize_sequence, args), \u001b[39m*\u001b[39;49m\u001b[39m*\u001b[39;49mkwargs)\n\u001b[1;32m   1444\u001b[0m     bound \u001b[39m=\u001b[39m new_sig\u001b[39m.\u001b[39mbind(ax, \u001b[39m*\u001b[39margs, \u001b[39m*\u001b[39m\u001b[39m*\u001b[39mkwargs)\n\u001b[1;32m   1445\u001b[0m     auto_label \u001b[39m=\u001b[39m (bound\u001b[39m.\u001b[39marguments\u001b[39m.\u001b[39mget(label_namer)\n\u001b[1;32m   1446\u001b[0m                   \u001b[39mor\u001b[39;00m bound\u001b[39m.\u001b[39mkwargs\u001b[39m.\u001b[39mget(label_namer))\n",
      "File \u001b[0;32m/opt/homebrew/lib/python3.11/site-packages/matplotlib/axes/_axes.py:4584\u001b[0m, in \u001b[0;36mAxes.scatter\u001b[0;34m(self, x, y, s, c, marker, cmap, norm, vmin, vmax, alpha, linewidths, edgecolors, plotnonfinite, **kwargs)\u001b[0m\n\u001b[1;32m   4582\u001b[0m y \u001b[39m=\u001b[39m np\u001b[39m.\u001b[39mma\u001b[39m.\u001b[39mravel(y)\n\u001b[1;32m   4583\u001b[0m \u001b[39mif\u001b[39;00m x\u001b[39m.\u001b[39msize \u001b[39m!=\u001b[39m y\u001b[39m.\u001b[39msize:\n\u001b[0;32m-> 4584\u001b[0m     \u001b[39mraise\u001b[39;00m \u001b[39mValueError\u001b[39;00m(\u001b[39m\"\u001b[39m\u001b[39mx and y must be the same size\u001b[39m\u001b[39m\"\u001b[39m)\n\u001b[1;32m   4586\u001b[0m \u001b[39mif\u001b[39;00m s \u001b[39mis\u001b[39;00m \u001b[39mNone\u001b[39;00m:\n\u001b[1;32m   4587\u001b[0m     s \u001b[39m=\u001b[39m (\u001b[39m20\u001b[39m \u001b[39mif\u001b[39;00m mpl\u001b[39m.\u001b[39mrcParams[\u001b[39m'\u001b[39m\u001b[39m_internal.classic_mode\u001b[39m\u001b[39m'\u001b[39m] \u001b[39melse\u001b[39;00m\n\u001b[1;32m   4588\u001b[0m          mpl\u001b[39m.\u001b[39mrcParams[\u001b[39m'\u001b[39m\u001b[39mlines.markersize\u001b[39m\u001b[39m'\u001b[39m] \u001b[39m*\u001b[39m\u001b[39m*\u001b[39m \u001b[39m2.0\u001b[39m)\n",
      "\u001b[0;31mValueError\u001b[0m: x and y must be the same size"
     ]
    },
    {
     "data": {
      "image/png": "[encoded data removed]",
      "text/plain": [
       "<Figure size 640x480 with 1 Axes>"
      ]
     },
     "metadata": {},
     "output_type": "display_data"
    }
   ],
   "source": [
    "import matplotlib.pyplot as plt\n",
    "import numpy as np\n",
    "\n",
    "# Flatten y_test to 1D array\n",
    "y_test = y_test.ravel()\n",
    "\n",
    "# Sort X_test and y_test by increasing values of X_test\n",
    "sort_idx = np.argsort(X_test[:, 0])\n",
    "X_test_sorted = X_test[sort_idx]\n",
    "y_test_sorted = y_test[sort_idx]\n",
    "\n",
    "# Plot fitted regression line\n",
    "plt.scatter(X_test_sorted, y_test_sorted, color='blue', alpha=0.2, label='Test Data')\n",
    "plt.plot(X_test_sorted[:, 0], model.forward(X_test_sorted), color='red', linewidth=2, label='Fitted Regression Line')\n",
    "plt.xlabel('Median Income')\n",
    "plt.ylabel('Median House Value')\n",
    "plt.title('Fitted Regression Line for California Housing Prices')\n",
    "plt.legend()\n",
    "plt.show()\n"
   ]
  },
  {
   "cell_type": "code",
   "execution_count": 25,
   "metadata": {},
   "outputs": [
    {
     "data": {
      "text/plain": [
       "torch.Size([6193, 8])"
      ]
     },
     "execution_count": 25,
     "metadata": {},
     "output_type": "execute_result"
    }
   ],
   "source": [
    "X_test.shape"
   ]
  },
  {
   "cell_type": "code",
   "execution_count": 27,
   "metadata": {},
   "outputs": [
    {
     "data": {
      "text/plain": [
       "torch.Size([6193, 1])"
      ]
     },
     "execution_count": 27,
     "metadata": {},
     "output_type": "execute_result"
    }
   ],
   "source": [
    "y_test.shape\n"
   ]
  },
  {
   "cell_type": "code",
   "execution_count": null,
   "metadata": {},
   "outputs": [],
   "source": []
  }
 ],
 "metadata": {
  "kernelspec": {
   "display_name": "Python 3",
   "language": "python",
   "name": "python3"
  },
  "language_info": {
   "codemirror_mode": {
    "name": "ipython",
    "version": 3
   },
   "file_extension": ".py",
   "mimetype": "text/x-python",
   "name": "python",
   "nbconvert_exporter": "python",
   "pygments_lexer": "ipython3",
   "version": "3.11.3"
  },
  "orig_nbformat": 4
 },
 "nbformat": 4,
 "nbformat_minor": 2
}
